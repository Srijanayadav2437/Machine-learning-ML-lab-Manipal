{
 "cells": [
  {
   "cell_type": "code",
   "execution_count": 4,
   "id": "fd2ccb9e",
   "metadata": {},
   "outputs": [],
   "source": [
    "# Step 1: Import necessary libraries\n",
    "from sklearn.datasets import fetch_california_housing\n",
    "from sklearn.model_selection import train_test_split\n",
    "from sklearn.linear_model import Ridge, Lasso\n",
    "from sklearn.metrics import mean_squared_error\n",
    "\n"
   ]
  },
  {
   "cell_type": "code",
   "execution_count": 5,
   "id": "bc30360c",
   "metadata": {},
   "outputs": [],
   "source": [
    "# Step 2: Load the California housing dataset\n",
    "housing = fetch_california_housing()\n",
    "X = housing.data  # Features\n",
    "y = housing.target  # Target (house prices)\n"
   ]
  },
  {
   "cell_type": "code",
   "execution_count": 6,
   "id": "e02e39c7",
   "metadata": {},
   "outputs": [],
   "source": [
    "\n",
    "# Step 3: Split the data into training and testing sets (80% training, 20% testing)\n",
    "X_train, X_test, y_train, y_test = train_test_split(X, y, test_size=0.2, random_state=42)\n",
    "\n"
   ]
  },
  {
   "cell_type": "code",
   "execution_count": 7,
   "id": "6902ae51",
   "metadata": {},
   "outputs": [],
   "source": [
    "\n",
    "# Step 4: Implement Ridge (L2) Regularization\n",
    "ridge_model = Ridge(alpha=1.0)  # Alpha is the regularization strength\n",
    "ridge_model.fit(X_train, y_train)\n",
    "y_pred_ridge = ridge_model.predict(X_test)\n",
    "ridge_mse = mean_squared_error(y_test, y_pred_ridge)\n"
   ]
  },
  {
   "cell_type": "code",
   "execution_count": 8,
   "id": "d89444ba",
   "metadata": {},
   "outputs": [],
   "source": [
    "\n",
    "# Step 5: Implement Lasso (L1) Regularization\n",
    "lasso_model = Lasso(alpha=0.1)  # Alpha is the regularization strength\n",
    "lasso_model.fit(X_train, y_train)\n",
    "y_pred_lasso = lasso_model.predict(X_test)\n",
    "lasso_mse = mean_squared_error(y_test, y_pred_lasso)\n",
    "\n"
   ]
  },
  {
   "cell_type": "code",
   "execution_count": 9,
   "id": "f04bbc28",
   "metadata": {},
   "outputs": [
    {
     "name": "stdout",
     "output_type": "stream",
     "text": [
      "Ridge (L2) Regularization Mean Squared Error: 0.5558034669932195\n",
      "Lasso (L1) Regularization Mean Squared Error: 0.6135115198058131\n"
     ]
    }
   ],
   "source": [
    "# Print the results\n",
    "print(\"Ridge (L2) Regularization Mean Squared Error:\", ridge_mse)\n",
    "print(\"Lasso (L1) Regularization Mean Squared Error:\", lasso_mse)"
   ]
  },
  {
   "cell_type": "code",
   "execution_count": null,
   "id": "220760f8",
   "metadata": {},
   "outputs": [],
   "source": []
  }
 ],
 "metadata": {
  "kernelspec": {
   "display_name": "Python 3 (ipykernel)",
   "language": "python",
   "name": "python3"
  },
  "language_info": {
   "codemirror_mode": {
    "name": "ipython",
    "version": 3
   },
   "file_extension": ".py",
   "mimetype": "text/x-python",
   "name": "python",
   "nbconvert_exporter": "python",
   "pygments_lexer": "ipython3",
   "version": "3.11.5"
  }
 },
 "nbformat": 4,
 "nbformat_minor": 5
}
