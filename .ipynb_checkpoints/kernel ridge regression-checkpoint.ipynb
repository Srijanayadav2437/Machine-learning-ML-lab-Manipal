{
 "cells": [
  {
   "cell_type": "code",
   "execution_count": 13,
   "id": "9d0f8a3e",
   "metadata": {},
   "outputs": [],
   "source": [
    "import numpy as np\n",
    "from sklearn.datasets import load_iris, fetch_california_housing\n",
    "from sklearn.svm import SVC\n",
    "from sklearn.kernel_ridge import KernelRidge\n",
    "from sklearn.model_selection import train_test_split\n",
    "from sklearn.preprocessing import StandardScaler\n",
    "from sklearn.metrics import accuracy_score\n",
    "\n"
   ]
  },
  {
   "cell_type": "code",
   "execution_count": 14,
   "id": "95678589",
   "metadata": {},
   "outputs": [],
   "source": [
    "# Load and preprocess the Iris dataset\n",
    "iris = load_iris()\n",
    "X_iris = iris.data\n",
    "y_iris = iris.target\n",
    "\n"
   ]
  },
  {
   "cell_type": "code",
   "execution_count": 15,
   "id": "21321a3f",
   "metadata": {},
   "outputs": [],
   "source": [
    "# Split the dataset into training and testing sets\n",
    "X_train_iris, X_test_iris, y_train_iris, y_test_iris = train_test_split(X_iris, y_iris, test_size=0.3, random_state=0)\n",
    "\n"
   ]
  },
  {
   "cell_type": "code",
   "execution_count": 16,
   "id": "2c671236",
   "metadata": {},
   "outputs": [],
   "source": [
    "# Scale the data for SVM\n",
    "scaler = StandardScaler()\n",
    "X_train_iris = scaler.fit_transform(X_train_iris)\n",
    "X_test_iris = scaler.transform(X_test_iris)\n",
    "\n"
   ]
  },
  {
   "cell_type": "code",
   "execution_count": 17,
   "id": "f194d326",
   "metadata": {},
   "outputs": [],
   "source": [
    "# SVM Classification\n",
    "svm = SVC(kernel='linear', C=1.0)\n",
    "svm.fit(X_train_iris, y_train_iris)\n",
    "y_pred_svm = svm.predict(X_test_iris)\n",
    "\n"
   ]
  },
  {
   "cell_type": "code",
   "execution_count": 18,
   "id": "59e1512e",
   "metadata": {},
   "outputs": [
    {
     "name": "stdout",
     "output_type": "stream",
     "text": [
      "SVM Accuracy: 0.9777777777777777\n"
     ]
    }
   ],
   "source": [
    "# Calculate the accuracy of the SVM model\n",
    "accuracy = accuracy_score(y_test_iris, y_pred_svm)\n",
    "print(\"SVM Accuracy:\", accuracy)\n",
    "\n"
   ]
  },
  {
   "cell_type": "code",
   "execution_count": 19,
   "id": "1fe189e7",
   "metadata": {},
   "outputs": [],
   "source": [
    "# Load and preprocess the California Housing dataset\n",
    "california = fetch_california_housing(as_frame=True)\n",
    "X_california, y_california = california.data, california.target\n",
    "\n"
   ]
  },
  {
   "cell_type": "code",
   "execution_count": 20,
   "id": "3261fa69",
   "metadata": {},
   "outputs": [],
   "source": [
    "# Split the data into training and test sets\n",
    "X_train_california, X_test_california, y_train_california, y_test_california = train_test_split(X_california, y_california, test_size=0.2, random_state=42)\n",
    "\n"
   ]
  },
  {
   "cell_type": "code",
   "execution_count": 21,
   "id": "f7fbc46b",
   "metadata": {},
   "outputs": [],
   "source": [
    "# Kernel Ridge Regression (you can use mean_squared_error here if required for this part)\n",
    "ridge = KernelRidge(alpha=1.0)\n",
    "ridge.fit(X_train_california, y_train_california)\n",
    "y_pred_ridge = ridge.predict(X_test_california)\n",
    "\n",
    "\n"
   ]
  },
  {
   "cell_type": "code",
   "execution_count": 22,
   "id": "5aef8871",
   "metadata": {},
   "outputs": [
    {
     "name": "stdout",
     "output_type": "stream",
     "text": [
      "Mean Squared Error: 0.6293571237765703\n"
     ]
    }
   ],
   "source": [
    "\n",
    "from sklearn.metrics import mean_squared_error\n",
    "mse = mean_squared_error(y_test_california, y_pred_ridge)\n",
    "print(\"Mean Squared Error:\", mse)\n"
   ]
  },
  {
   "cell_type": "code",
   "execution_count": null,
   "id": "f848c587",
   "metadata": {},
   "outputs": [],
   "source": []
  }
 ],
 "metadata": {
  "kernelspec": {
   "display_name": "Python 3 (ipykernel)",
   "language": "python",
   "name": "python3"
  },
  "language_info": {
   "codemirror_mode": {
    "name": "ipython",
    "version": 3
   },
   "file_extension": ".py",
   "mimetype": "text/x-python",
   "name": "python",
   "nbconvert_exporter": "python",
   "pygments_lexer": "ipython3",
   "version": "3.11.5"
  }
 },
 "nbformat": 4,
 "nbformat_minor": 5
}
