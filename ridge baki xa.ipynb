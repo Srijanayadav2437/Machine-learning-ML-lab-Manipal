{
 "cells": [
  {
   "cell_type": "code",
   "execution_count": null,
   "id": "9d0f8a3e",
   "metadata": {},
   "outputs": [],
   "source": [
    "import numpy as np  \n",
    "from sklearn.datasets import load_iris, fetch_california_housing  \n",
    "from sklearn.svm import SVC  \n",
    "from sklearn.kernel_ridge import KernelRidge  \n",
    "from sklearn.model_selection import train_test_split  \n",
    "from sklearn.preprocessing import StandardScaler  \n",
    "from sklearn.metrics import accuracy_score, mean_squared_error  \n",
    "\n",
    "# Load and preprocess the Iris dataset  \n",
    "iris = load_iris()  \n",
    "X_iris = iris.data  \n",
    "y_iris = iris.target  \n",
    "\n",
    "# Split the dataset into training and testing sets  \n",
    "X_train_iris, X_test_iris, y_train_iris, y_test_iris = train_test_split(X_iris, y_iris, test_size=0.3, random_state=0)  \n",
    "\n",
    "# Scale the data for SVM  \n",
    "scaler = StandardScaler()  \n",
    "X_train_iris = scaler.fit_transform(X_train_iris)  \n",
    "X_test_iris = scaler.transform(X_test_iris)  \n",
    "\n",
    "# SVM Classification  \n",
    "svm = SVC(kernel='linear', C=1.0)  \n",
    "svm.fit(X_train_iris, y_train_iris)  \n",
    "y_pred_svm = svm.predict(X_test_iris)  \n",
    "\n",
    "# Calculate the accuracy of the SVM model  \n",
    "accuracy = accuracy_score(y_test_iris, y_pred_svm)  \n",
    "print(\"SVM Accuracy:\", accuracy)  \n",
    "\n",
    "# Load and preprocess the California Housing dataset  \n",
    "california = fetch_california_housing(as_frame=True)  \n",
    "X_california, y_california = california.data, california.target  \n",
    "\n",
    "# Split the data into training and test sets  \n",
    "X_train_california, X_test_california, y_train_california, y_test_california = train_test_split(X_california, y_california, test_size=0.2, random_state=42)  \n",
    "\n",
    "# Instantiate and fit the Kernel Ridge Regression model  \n",
    "krr = KernelRidge(kernel='rbf', alpha=0.1, gamma=0.1)  \n",
    "krr.fit(X_train_california, y_train_california)  \n",
    "\n",
    "# Predict the target values for the test data  \n",
    "y_pred_krr = krr.predict(X_test_california)  \n",
    "\n",
    "# Compute the mean squared error between predicted and true target values  \n",
    "mse = mean_squared_error(y_test_california, y_pred_krr)  \n",
    "print(\"KRR Mean Squared Error:\", mse)"
   ]
  },
  {
   "cell_type": "code",
   "execution_count": null,
   "id": "771cd7a3",
   "metadata": {},
   "outputs": [],
   "source": []
  }
 ],
 "metadata": {
  "kernelspec": {
   "display_name": "Python 3 (ipykernel)",
   "language": "python",
   "name": "python3"
  },
  "language_info": {
   "codemirror_mode": {
    "name": "ipython",
    "version": 3
   },
   "file_extension": ".py",
   "mimetype": "text/x-python",
   "name": "python",
   "nbconvert_exporter": "python",
   "pygments_lexer": "ipython3",
   "version": "3.11.5"
  }
 },
 "nbformat": 4,
 "nbformat_minor": 5
}
